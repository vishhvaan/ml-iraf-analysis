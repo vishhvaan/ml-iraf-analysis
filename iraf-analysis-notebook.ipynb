{
 "cells": [
  {
   "cell_type": "markdown",
   "metadata": {},
   "source": [
    "# Machine Learning Immediate Recurrence of Atrial Fibrillation (IRAF) Susceptibility\n",
    "\n",
    "Immediate Recurrence of Atrial Fibrillation (IRAF) occurs after synchronized cardioversion with a prevalence of 5-26%. [[1]] Recurrence decreases cardioversion efficacy and puts patients through the unnecessary risk of unsuccessful cardioversion. Better knowledge of patient susceptibility factors will allow clinicians to pre-treat these patients to reduce IRAF incidence. This project aims to shed more light on IRAF susceptibility factors through analysis of a cardioversion database.\n",
    "\n",
    "[1]: https://deepblue.lib.umich.edu/bitstream/handle/2027.42/72654/j.1540-8167.2003.02415.x.pdf?sequence=1&isAllowed=y"
   ]
  },
  {
   "cell_type": "code",
   "execution_count": 142,
   "metadata": {},
   "outputs": [],
   "source": [
    "import pandas as pd\n",
    "import numpy as np"
   ]
  },
  {
   "cell_type": "code",
   "execution_count": 56,
   "metadata": {},
   "outputs": [],
   "source": [
    "data_file = '../ml-iraf-data/cvdb_v1_sanp.xls'\n",
    "cvdb = pd.read_excel(data_file, sheet_name = 1)"
   ]
  },
  {
   "cell_type": "code",
   "execution_count": 57,
   "metadata": {},
   "outputs": [
    {
     "name": "stdout",
     "output_type": "stream",
     "text": [
      "['seqno', 'ep_date', 'expiration_date SSDI 051904', 'FU date SSDI 051904', 'Status SSDI 051904', 'ep_date.1', 'FUDays SSDI 0504', 'echo_date1', 'test_type', 'timing', 'primary_rhythm', 'study_quality', 'left_atrium_cm', 'lvid_diastolic', 'lvid_systolic', 'eject_fraction', 'la_cavity_area_sys', 'la_cavity_area_dia', 'la_cavity_size_x', 'la_cavity_size_y', 'la_cavity_size_z', 'lv_cavity_dilation_size', 'lv_test_timing', 'lv_systolic_function', 'lv_diastolic_filling_baseline', 'rv_cavity_dilation_size', 'test_timing', 'rv_systolic_function', 'rv_diastolic_function', 'mitral_regurge', 'tricuspid_regurge', 'MR1Code', 'TR1Code', 'AR1Code', 'rvsp', 'aortic_regurge', 'pulmonic_regurge', 'echo_date2', 'test_type.1', 'timing.1', 'primary_rhythm.1', 'study_quality.1', 'left_atrium_cm.1', 'lvid_diastolic.1', 'lvid_systolic.1', 'eject_fraction.1', 'la_cavity_area_sys.1', 'la_cavity_area_dia.1', 'la_cavity_size_x.1', 'la_cavity_size_y.1', 'la_cavity_size_z.1', 'lv_cavity_dilation_size.1', 'lv_test_timing.1', 'lv_systolic_function.1', 'lv_diastolic_filling_baseline.1', 'rv_cavity_dilation_size.1', 'test_timing.1', 'rv_systolic_function.1', 'rv_diastolic_function.1', 'mitral_regurge.1', 'tricuspid_regurge.1', 'MR2Code', 'TR2Code', 'AR2Code', 'rvsp.1', 'aortic_regurge.1', 'pulmonic_regurge.1', 'echo_date3', 'test_type.2', 'timing.2', 'primary_rhythm.2', 'study_quality.2', 'left_atrium_cm.2', 'lvid_diastolic.2', 'lvid_systolic.2', 'eject_fraction.2', 'la_cavity_area_sys.2', 'la_cavity_area_dia.2', 'la_cavity_size_x.2', 'la_cavity_size_y.2', 'la_cavity_size_z.2', 'lv_cavity_dilation_size.2', 'lv_test_timing.2', 'lv_systolic_function.2', 'lv_diastolic_filling_baseline.2', 'rv_cavity_dilation_size.2', 'test_timing.2', 'rv_systolic_function.2', 'rv_diastolic_function.2', 'mitral_regurge.2', 'tricuspid_regurge.2', 'rvsp.2', 'aortic_regurge.2', 'pulmonic_regurge.2', 'echo_date4', 'test_type.3', 'timing.3', 'primary_rhythm.3', 'study_quality.3', 'left_atrium_cm.3', 'lvid_diastolic.3', 'lvid_systolic.3', 'eject_fraction.3', 'la_cavity_area_sys.3', 'la_cavity_area_dia.3', 'la_cavity_size_x.3', 'la_cavity_size_y.3', 'la_cavity_size_z.3', 'lv_cavity_dilation_size.3', 'lv_test_timing.3', 'lv_systolic_function.3', 'lv_diastolic_filling_baseline.3', 'rv_cavity_dilation_size.3', 'test_timing.3', 'rv_systolic_function.3', 'rv_diastolic_function.3', 'mitral_regurge.3', 'tricuspid_regurge.3', 'rvsp.3', 'aortic_regurge.3', 'pulmonic_regurge.3', 'pid', 'DCCNo', 'Tot_DC', 'pro_date', 'sex', 'SexCode 1=M 2=F', 'age', 'race', 'RaceCode 0=White 1=B 2=Other', 'Race BW', 'CaffCode', 'EtOHCode', 'TobCode', 'caffeine', 'alcohol', 'tobacco', 'Tob use stopped', 'Ht', 'Wt', 'No SHD', 'CongenHD', 'CAD', 'HTN HD', 'HCM', 'PrimaryMyoDs', 'VHD', 'myocarditis', 'other_disease', 'echo_ef', 'OverallEF', 'echo_qual', 'muga_ef', 'muga_qual', 'cath_ef', 'cath_qual', 'saecg', 'nyha_flag', 'PresentingArrhythmia', 'CVSuccCode', 'SuccOrTrans=1', 'CV success', 'PostProcRhythm', 'LoggedTransSuc', 'ShockTransSuc', 'OverallTransSuc', 'CompositeTransSuc', 'history', 'comments', 'post_ventricular_rate', 'duration_of_presenting_arrhy', 'DurnCode', 'type_of_anticoagulation', 'pt', 'inr', 'inr_date', 'ptt', 'ptt_date', 'ptt_time', 'duration_anticoagulation', 'la_size', 'ra_size', 'mitral_valve', 'tricuspid_valve', 'echo_date', 'tee', 'tee_date', 'la_thrombus', 'la_smoke', 'iv_antiarrhythmic', 'antiarrhythmic_drug', 'antiarrhythmic_dose', 'best_approximate_duration', 'Amiodarone', 'Beta Blocker', 'Ca+ channel blocker', 'Digoxin', 'Disopyramide', 'Dofetelide', 'Fentanyl', 'Flecainide', 'Lidocaine', 'Mexiletine', 'Moricizine', 'None', 'Phenytoin', 'Procainamide', 'Propafenone', 'Quinidine', 'Sotalol', 'Review Comments', 'LVEF>=50', 'LVEF>=45', 'LVEF >=40', 'LVEF>=35', 'LVEF>=30', 'LVEF>=25', 'LVEF>=20', 'BMI', 'DCCdone=1_aborted or nonAF=0_ATP=2_Drug conv=3_DCC then Drug conv=4; 5 VT DCC or AP', 'PreBNPDate0', 'PreBNP0', 'PostBNPDate1', 'PostBNP1', 'PostBNPDate2', 'PostBNP2', 'PreCRPDate0', 'PreCRP0', 'PostCRPDate1', 'PostCRP1', 'PostCRPDate2', 'PostCRP2', 'PreEchDa', 'PoEch1Da', 'PoEch2Da', 'PreBNPDa', 'PoBNP1Da', 'PoBNP2Da', 'PreCRPDa', 'PoCRP1Da', 'PoCRP2Da', 'expiration_date SSDI 090606', 'FU date SSDI 090606', 'Status SSDI 090606', 'FU Days SSDI 090606', 'posterior_wall_thickness', 'iv_septum', 'aortic_stenosis', 'Mono1Biph2', 'seqno.1', 'clinic_number', 'Unnamed: 251', 'Unnamed: 252', 'DCC No.', 'Days from 1st EP date']\n"
     ]
    }
   ],
   "source": [
    "print(list(cvdb))"
   ]
  },
  {
   "cell_type": "code",
   "execution_count": 58,
   "metadata": {},
   "outputs": [
    {
     "name": "stdout",
     "output_type": "stream",
     "text": [
      "(6849, 255)\n"
     ]
    }
   ],
   "source": [
    "print(cvdb.shape)"
   ]
  },
  {
   "cell_type": "code",
   "execution_count": 61,
   "metadata": {},
   "outputs": [
    {
     "name": "stdout",
     "output_type": "stream",
     "text": [
      "['SUCCESSFUL' 'UNSUCCESSFUL' 'TRANSIENTLY SUCCESSFUL']\n"
     ]
    }
   ],
   "source": [
    "print(pd.unique(cvdb['CV success']))"
   ]
  },
  {
   "cell_type": "code",
   "execution_count": 65,
   "metadata": {},
   "outputs": [
    {
     "data": {
      "text/plain": [
       "0.06176084099868594"
      ]
     },
     "execution_count": 65,
     "metadata": {},
     "output_type": "execute_result"
    }
   ],
   "source": [
    "sum(cvdb['CV success'] == 'TRANSIENTLY SUCCESSFUL')/cvdb.shape[0]"
   ]
  },
  {
   "cell_type": "code",
   "execution_count": 170,
   "metadata": {},
   "outputs": [
    {
     "data": {
      "text/html": [
       "<div>\n",
       "<style scoped>\n",
       "    .dataframe tbody tr th:only-of-type {\n",
       "        vertical-align: middle;\n",
       "    }\n",
       "\n",
       "    .dataframe tbody tr th {\n",
       "        vertical-align: top;\n",
       "    }\n",
       "\n",
       "    .dataframe thead th {\n",
       "        text-align: right;\n",
       "    }\n",
       "</style>\n",
       "<table border=\"1\" class=\"dataframe\">\n",
       "  <thead>\n",
       "    <tr style=\"text-align: right;\">\n",
       "      <th></th>\n",
       "      <th>SUCCESSFUL</th>\n",
       "      <th>TRANSIENTLY SUCCESSFUL</th>\n",
       "      <th>UNSUCCESSFUL</th>\n",
       "    </tr>\n",
       "  </thead>\n",
       "  <tbody>\n",
       "    <tr>\n",
       "      <th>0</th>\n",
       "      <td>1.0</td>\n",
       "      <td>0.0</td>\n",
       "      <td>0.0</td>\n",
       "    </tr>\n",
       "    <tr>\n",
       "      <th>1</th>\n",
       "      <td>1.0</td>\n",
       "      <td>0.0</td>\n",
       "      <td>0.0</td>\n",
       "    </tr>\n",
       "    <tr>\n",
       "      <th>2</th>\n",
       "      <td>1.0</td>\n",
       "      <td>0.0</td>\n",
       "      <td>0.0</td>\n",
       "    </tr>\n",
       "    <tr>\n",
       "      <th>3</th>\n",
       "      <td>1.0</td>\n",
       "      <td>0.0</td>\n",
       "      <td>0.0</td>\n",
       "    </tr>\n",
       "    <tr>\n",
       "      <th>4</th>\n",
       "      <td>1.0</td>\n",
       "      <td>0.0</td>\n",
       "      <td>0.0</td>\n",
       "    </tr>\n",
       "  </tbody>\n",
       "</table>\n",
       "</div>"
      ],
      "text/plain": [
       "   SUCCESSFUL  TRANSIENTLY SUCCESSFUL  UNSUCCESSFUL\n",
       "0         1.0                     0.0           0.0\n",
       "1         1.0                     0.0           0.0\n",
       "2         1.0                     0.0           0.0\n",
       "3         1.0                     0.0           0.0\n",
       "4         1.0                     0.0           0.0"
      ]
     },
     "execution_count": 170,
     "metadata": {},
     "output_type": "execute_result"
    }
   ],
   "source": [
    "# One-hot encoding of CV success\n",
    "from sklearn import preprocessing\n",
    "import sklearn.pipeline\n",
    "\n",
    "categories = pd.unique(cvdb['CV success'])\n",
    "encoder = preprocessing.OneHotEncoder(handle_unknown='ignore', sparse=False)\n",
    "key_fit = encoder.fit_transform(pd.DataFrame(categories))\n",
    "key = pd.DataFrame(key_fit, columns = categories)\n",
    "cv_success = pd.DataFrame(encoder.transform(cvdb.loc[:,['CV success']]), columns = categories[np.argmax(key_fit, axis=1)])\n",
    "cv_success.head()"
   ]
  },
  {
   "cell_type": "markdown",
   "metadata": {},
   "source": [
    "### IRAF + Medications "
   ]
  },
  {
   "cell_type": "code",
   "execution_count": 108,
   "metadata": {},
   "outputs": [
    {
     "data": {
      "text/plain": [
       "array([0, 1])"
      ]
     },
     "execution_count": 108,
     "metadata": {},
     "output_type": "execute_result"
    }
   ],
   "source": [
    "pd.unique(cvdb['Amiodarone'])"
   ]
  },
  {
   "cell_type": "code",
   "execution_count": 112,
   "metadata": {},
   "outputs": [],
   "source": [
    "# print(cvdb.columns.get_loc('Amiodarone'))\n",
    "# print(cvdb.columns.get_loc('Sotalol'))"
   ]
  },
  {
   "cell_type": "code",
   "execution_count": 113,
   "metadata": {},
   "outputs": [],
   "source": [
    "# cvdb_subset = list(range(193,209))\n",
    "# print(cvdb_subset)"
   ]
  },
  {
   "cell_type": "code",
   "execution_count": 117,
   "metadata": {},
   "outputs": [
    {
     "name": "stdout",
     "output_type": "stream",
     "text": [
      "['Amiodarone', 'Beta Blocker', 'Ca+ channel blocker', 'Digoxin', 'Disopyramide', 'Dofetelide', 'Fentanyl', 'Flecainide', 'Lidocaine', 'Mexiletine', 'Moricizine', 'None', 'Phenytoin', 'Procainamide', 'Propafenone', 'Quinidine', 'Sotalol']\n"
     ]
    }
   ],
   "source": [
    "cvdb_meds = cvdb.loc[:,'Amiodarone':'Sotalol'].copy()\n",
    "print(list(cvdb_meds))"
   ]
  },
  {
   "cell_type": "code",
   "execution_count": null,
   "metadata": {},
   "outputs": [],
   "source": []
  }
 ],
 "metadata": {
  "kernelspec": {
   "display_name": "Python 3",
   "language": "python",
   "name": "python3"
  },
  "language_info": {
   "codemirror_mode": {
    "name": "ipython",
    "version": 3
   },
   "file_extension": ".py",
   "mimetype": "text/x-python",
   "name": "python",
   "nbconvert_exporter": "python",
   "pygments_lexer": "ipython3",
   "version": "3.7.6"
  }
 },
 "nbformat": 4,
 "nbformat_minor": 4
}

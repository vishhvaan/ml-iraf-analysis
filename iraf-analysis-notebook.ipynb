{
 "cells": [
  {
   "cell_type": "markdown",
   "metadata": {},
   "source": [
    "# Machine Learning Immediate Recurrence of Atrial Fibrillation (IRAF) Susceptibility\n",
    "\n",
    "Immediate Recurrence of Atrial Fibrillation (IRAF) occurs after synchronized cardioversion with a prevalence of 5-26%. [[1]] Recurrence decreases cardioversion efficacy and puts patients through the unnecessary risk of unsuccessful cardioversion. Better knowledge of patient susceptibility factors will allow clinicians to pre-treat these patients to reduce IRAF incidence. This project aims to shed more light on IRAF susceptibility factors through analysis of a cardioversion database.\n",
    "\n",
    "[1]: https://deepblue.lib.umich.edu/bitstream/handle/2027.42/72654/j.1540-8167.2003.02415.x.pdf?sequence=1&isAllowed=y"
   ]
  },
  {
   "cell_type": "code",
   "execution_count": 2,
   "metadata": {},
   "outputs": [],
   "source": [
    "import pandas as pd"
   ]
  },
  {
   "cell_type": "code",
   "execution_count": 3,
   "metadata": {},
   "outputs": [],
   "source": [
    "data_file = '../ml-iraf-data/cvdb_v0_CLEANED_sanp.xlsx'\n",
    "cvdb = pd.read_excel(data_file)"
   ]
  },
  {
   "cell_type": "code",
   "execution_count": 4,
   "metadata": {},
   "outputs": [
    {
     "name": "stdout",
     "output_type": "stream",
     "text": [
      "['PID', 'Gender', 'DOB', 'Race', 'Expiration_Date', 'Date_Of_Service', 'Procedure_Type', 'Staff', 'Room', 'Patient_Height', 'Patient_Weight', 'BMI', 'BSA', 'Baseline_BP_Systolic', 'Baseline_BP_Diastolic', 'Baseline_Heart_Rate', 'Baseline_O2_Saturation', 'Score_Activity', 'Score_Respiration', 'Score_Consciousness', 'Score_O2_Saturation', 'Score_Ambulation', 'Score_Total', 'INR', 'INR_Date', 'Creatinine', 'Potassium', 'Caffeine', 'Alcohol', 'Smoking', 'Smoking_Packs_Per_Day', 'Smoking_Quit_Years_Ago', 'Smoking_How_Many_Years', 'Indications', 'NYHA_Class', 'Hx_AFib_Or_AFlutter', 'Coronary_Artery_Disease', 'Valvular_Heart_Disease', 'Cardiomyopathy', 'Cardiomyopathy_Type', 'Congenital_Heart_Disease', 'Hypertension', 'Diabetes', 'DVT_Or_PE', 'Stroke', 'TIA', 'PAD', 'Min_LVEF', 'Min_LVEF_Modality', 'Max_LVEF', 'Max_LVEF_Modality', 'Has_Pacemaker', 'Pacemaker_Type', 'Has_ICD', 'ICD_Type', 'Prior_Cardioversion', 'Prior_AFib_Ablation', 'Prior_AFlutter_ATach_Ablation', 'Med_ACE_Inhibitor', 'Med_ARB', 'Med_Amiodarone', 'Med_Disopyramide', 'Med_Dofetilide', 'Med_Dronedarone', 'Med_Flecainide', 'Med_Lidocaine', 'Med_Mexiletine', 'Med_Moricizine', 'Med_Procainamide', 'Med_Propafenone', 'Med_Quinidine', 'Med_Ranolazine', 'Med_Sotalol', 'Med_Tocainide', 'Med_Unspec_Antihypertensive', 'Med_Hydralazine', 'Med_Clonidine', 'Med_Other_Antihypertensive', 'Med_Apixaban', 'Med_Bivalirudin', 'Med_Dabigatran', 'Med_Heparin', 'Med_LMW_Heparin', 'Med_Warfarin', 'Med_Rivaroxaban', 'Med_Other_Anticoagulant', 'Med_ASA', 'Med_Clopidogrel', 'Med_Prasugrel', 'Med_Ticlopidine', 'Med_Other_Antiplatelet', 'Med_Beta_Blocker', 'Med_Unspec_CCB', 'Med_Diltiazem', 'Med_Verapamil', 'Med_Amlodipine', 'Med_Other_CCB', 'Med_Digoxin', 'Med_Unspec_Diuretic', 'Med_Loop_Diuretic', 'Med_Thiazides', 'Med_Diuretic_Other', 'Med_Thyroid_Replacement', 'Med_Antithyroid', 'Med_Aldosterone_Antagonist', 'Med_Spironolactone', 'Med_Eplerenone', 'Med_Nitroglycerin_Long_Acting', 'Med_Nitroglycerin_SL_PRN', 'Med_Other_Nitrate', 'Med_NSAIDs', 'Med_Statin', 'Med_Anti_Lipid_Non_Statin', 'Med_Steroids', 'Med_Omega_3', 'Med_Insulin', 'Med_Oral_Hypoglycemic_Agent', 'Med_Unspec_Psychiatric_Agent', 'Other_Medications', 'Patient_Entered_Lab', 'Patient_Prep_Completed', 'Procedure_Start_Time', 'Procedure_End_Time', 'Patient_Left_Lab', 'Sedation_Type', 'Sedation_Drugs', 'Anticoagulation_Type', 'Anticoagulation_Duration', 'Presenting_Arrhythmia_Duration', 'Best_Approximate_Duration', 'IV_Antiarrhythmic', 'TEE', 'TEE_Date', 'LA_Thrombus', 'LAA_Occlusion_Device', 'LAA_Resected_Ligated', 'Parenteral_Drugs', 'Num_Attempts', 'Maximum_Energy', 'Total_Energy', 'Attempted_1', 'Therapy_Type_1', 'Energy_1', 'Success_1', 'Shock_Type_1', 'Manufacturer_1', 'Internal_1', 'Applied_Pressure_1', 'Repositioned_Patches_1', 'Impedance_1', 'Post_Conversion_Pause_1', 'Comment_1', 'Attempted_2', 'Therapy_Type_2', 'Energy_2', 'Success_2', 'Shock_Type_2', 'Manufacturer_2', 'Internal_2', 'Applied_Pressure_2', 'Repositioned_Patches_2', 'Impedance_2', 'Post_Conversion_Pause_2', 'Comment_2', 'Attempted_3', 'Therapy_Type_3', 'Energy_3', 'Success_3', 'Shock_Type_3', 'Manufacturer_3', 'Internal_3', 'Applied_Pressure_3', 'Repositioned_Patches_3', 'Impedance_3', 'Post_Conversion_Pause_3', 'Comment_3', 'Attempted_4', 'Therapy_Type_4', 'Energy_4', 'Success_4', 'Shock_Type_4', 'Manufacturer_4', 'Internal_4', 'Applied_Pressure_4', 'Repositioned_Patches_4', 'Impedance_4', 'Post_Conversion_Pause_4', 'Comment_4', 'Attempted_5', 'Therapy_Type_5', 'Energy_5', 'Success_5', 'Shock_Type_5', 'Manufacturer_5', 'Internal_5', 'Applied_Pressure_5', 'Repositioned_Patches_5', 'Impedance_5', 'Post_Conversion_Pause_5', 'Comment_5', 'Attempted_6', 'Therapy_Type_6', 'Energy_6', 'Success_6', 'Shock_Type_6', 'Manufacturer_6', 'Internal_6', 'Applied_Pressure_6', 'Repositioned_Patches_6', 'Impedance_6', 'Post_Conversion_Pause_6', 'Comment_6', 'Baseline_Rhythm', 'Presenting_Ventricular_Rate', 'Post_Ventricular_Rate', 'Cardioversion_Outcome', 'Post_Procedure_Rhythm', 'Pre_Operative_Diagnosis', 'Post_Operative_Diagnosis', 'Estimated_Blood_Loss', 'Specimens_Removed', 'History', 'Comments', 'Complication_Identified_Date', 'Identified_Days_Post', 'Complications', 'Post_Procedure', 'MD_Notes', 'PRE_ECHO_ID', 'PRE_ECHO_DATE', 'PRE_ECHO_DATE_TIME', 'PRE_ECHO_TYPE', 'PRE_LEFT_ATRIUM_CM', 'PRE_LVID_DIASTOLIC', 'PRE_LVID_SYSTOLIC', 'PRE_POSTERIOR_WALL_THICKNESS', 'PRE_IV_SEPTUM', 'PRE_AORTA_AT_MID_ASCENDING', 'PRE_EJECT_FRACTION', 'PRE_LV_END_DIAS_VOL', 'PRE_LV_END_SYS_VOL', 'PRE_AORTIC_STENOSIS', 'PRE_LA_CAVITY_SIZE', 'PRE_LA_CAVITY_AREA_SYS', 'PRE_RA_CAVITY_AREA_SYS', 'PRE_RA_CAVITY_AREA_DIA', 'PRE_RA_CAVITY_SIZE', 'PRE_TRICUSPID_REGURGE', 'PRE_RVSP', 'PRE_MITRAL_REGURGE', 'PRE_MITRAL_STENOSIS', 'POST_ECHO_ID', 'POST_ECHO_DATE', 'POST_ECHO_DATE_TIME', 'POST_ECHO_TYPE', 'POST_LEFT_ATRIUM_CM', 'POST_LVID_DIASTOLIC', 'POST_LVID_SYSTOLIC', 'POST_POSTERIOR_WALL_THICKNESS', 'POST_IV_SEPTUM', 'POST_AORTA_AT_MID_ASCENDING', 'POST_EJECT_FRACTION', 'POST_LV_END_DIAS_VOL', 'POST_LV_END_SYS_VOL', 'POST_AORTIC_STENOSIS', 'POST_LA_CAVITY_SIZE', 'POST_LA_CAVITY_AREA_SYS', 'POST_RA_CAVITY_AREA_SYS', 'POST_RA_CAVITY_AREA_DIA', 'POST_RA_CAVITY_SIZE', 'POST_TRICUSPID_REGURGE', 'POST_RVSP', 'POST_MITRAL_REGURGE', 'POST_MITRAL_STENOSIS']\n"
     ]
    }
   ],
   "source": [
    "print(list(cvdb))"
   ]
  },
  {
   "cell_type": "code",
   "execution_count": 5,
   "metadata": {},
   "outputs": [
    {
     "name": "stdout",
     "output_type": "stream",
     "text": [
      "(3670, 274)\n"
     ]
    }
   ],
   "source": [
    "print(cvdb.shape)"
   ]
  },
  {
   "cell_type": "markdown",
   "metadata": {},
   "source": [
    "## Begin Cleaning Data"
   ]
  },
  {
   "cell_type": "code",
   "execution_count": 31,
   "metadata": {},
   "outputs": [
    {
     "data": {
      "text/plain": [
       "143"
      ]
     },
     "execution_count": 31,
     "metadata": {},
     "output_type": "execute_result"
    }
   ],
   "source": [
    "cvdb.columns.get_loc('Success_1')"
   ]
  },
  {
   "cell_type": "code",
   "execution_count": 11,
   "metadata": {},
   "outputs": [
    {
     "name": "stdout",
     "output_type": "stream",
     "text": [
      "['Transiently successful' 'Successful' nan 'Unsuccessful']\n"
     ]
    }
   ],
   "source": [
    "print(pd.unique(cvdb['Success_1']))"
   ]
  },
  {
   "cell_type": "code",
   "execution_count": 12,
   "metadata": {},
   "outputs": [
    {
     "name": "stdout",
     "output_type": "stream",
     "text": [
      "['Yes' nan]\n"
     ]
    }
   ],
   "source": [
    "print(pd.unique(cvdb['Attempted_1']))"
   ]
  },
  {
   "cell_type": "code",
   "execution_count": 13,
   "metadata": {},
   "outputs": [],
   "source": [
    "cvdb = cvdb[cvdb['Attempted_1'] == 'Yes']"
   ]
  },
  {
   "cell_type": "code",
   "execution_count": 15,
   "metadata": {},
   "outputs": [
    {
     "name": "stdout",
     "output_type": "stream",
     "text": [
      "['Transiently successful' 'Successful' nan 'Unsuccessful']\n"
     ]
    }
   ],
   "source": [
    "print(pd.unique(cvdb['Success_1']))"
   ]
  },
  {
   "cell_type": "code",
   "execution_count": 49,
   "metadata": {},
   "outputs": [],
   "source": [
    "#print(cvdb[cvdb['Success_1'].isnull()]['Shock_Type_1'])\n",
    "#subset = [a and b for a, b in zip(cvdb['Success_1'].isnull(), cvdb['Shock_Type_1'].isnull())]\n",
    "#cvdb[subset].iloc[:,140:150]"
   ]
  },
  {
   "cell_type": "code",
   "execution_count": 53,
   "metadata": {},
   "outputs": [],
   "source": [
    "subset = [a and b for a, b in zip(cvdb['Success_1'].isnull(), cvdb['Shock_Type_1'].isnull())]\n",
    "notsubset = [not i for i in subset]\n",
    "cvdb = cvdb[notsubset]"
   ]
  },
  {
   "cell_type": "code",
   "execution_count": 54,
   "metadata": {},
   "outputs": [
    {
     "name": "stdout",
     "output_type": "stream",
     "text": [
      "(3608, 274)\n"
     ]
    }
   ],
   "source": [
    "print(cvdb.shape)"
   ]
  }
 ],
 "metadata": {
  "kernelspec": {
   "display_name": "Python 3",
   "language": "python",
   "name": "python3"
  },
  "language_info": {
   "codemirror_mode": {
    "name": "ipython",
    "version": 3
   },
   "file_extension": ".py",
   "mimetype": "text/x-python",
   "name": "python",
   "nbconvert_exporter": "python",
   "pygments_lexer": "ipython3",
   "version": "3.7.6"
  }
 },
 "nbformat": 4,
 "nbformat_minor": 4
}
